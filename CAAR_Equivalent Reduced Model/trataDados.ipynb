{
 "cells": [
  {
   "cell_type": "markdown",
   "metadata": {},
   "source": [
    "# ANÁLISE DIMENSIONAL"
   ]
  },
  {
   "cell_type": "code",
   "execution_count": 1,
   "metadata": {},
   "outputs": [],
   "source": [
    "#======================================================#\n",
    "# 1. IMPORTING NECESSARY CLASSES AND DIMENSIONAL MATRIX#\n",
    "#======================================================#\n",
    "\n",
    "import numpy as np\n",
    "import pandas as pd\n",
    "import matplotlib.pyplot as plt\n",
    "import scipy.linalg as sc\n",
    "import scipy.stats as st\n",
    "from MRPy import *\n",
    "\n",
    "# Importing pandas dataframe with dimension exponents for relevant quantities\n",
    "\n",
    "DimData = pd.read_excel('resources/DimData.xlsx', \n",
    "                         index_col  =  0,\n",
    "                         header     =  0,\n",
    "                         sheet_name = 'DimData')\n"
   ]
  },
  {
   "cell_type": "code",
   "execution_count": 2,
   "metadata": {},
   "outputs": [
    {
     "data": {
      "text/html": [
       "<div>\n",
       "<style scoped>\n",
       "    .dataframe tbody tr th:only-of-type {\n",
       "        vertical-align: middle;\n",
       "    }\n",
       "\n",
       "    .dataframe tbody tr th {\n",
       "        vertical-align: top;\n",
       "    }\n",
       "\n",
       "    .dataframe thead th {\n",
       "        text-align: right;\n",
       "    }\n",
       "</style>\n",
       "<table border=\"1\" class=\"dataframe\">\n",
       "  <thead>\n",
       "    <tr style=\"text-align: right;\">\n",
       "      <th></th>\n",
       "      <th>descriptor</th>\n",
       "      <th>latex</th>\n",
       "      <th>L</th>\n",
       "      <th>M</th>\n",
       "      <th>T</th>\n",
       "    </tr>\n",
       "  </thead>\n",
       "  <tbody>\n",
       "    <tr>\n",
       "      <th>a</th>\n",
       "      <td>Acceleration</td>\n",
       "      <td>a</td>\n",
       "      <td>1</td>\n",
       "      <td>0</td>\n",
       "      <td>-2</td>\n",
       "    </tr>\n",
       "    <tr>\n",
       "      <th>α</th>\n",
       "      <td>Angular acceleration</td>\n",
       "      <td>\\alpha</td>\n",
       "      <td>0</td>\n",
       "      <td>0</td>\n",
       "      <td>-2</td>\n",
       "    </tr>\n",
       "    <tr>\n",
       "      <th>ω</th>\n",
       "      <td>Angular frequency</td>\n",
       "      <td>\\omega</td>\n",
       "      <td>0</td>\n",
       "      <td>0</td>\n",
       "      <td>-1</td>\n",
       "    </tr>\n",
       "    <tr>\n",
       "      <th>A</th>\n",
       "      <td>Area</td>\n",
       "      <td>A</td>\n",
       "      <td>2</td>\n",
       "      <td>0</td>\n",
       "      <td>0</td>\n",
       "    </tr>\n",
       "    <tr>\n",
       "      <th>EI</th>\n",
       "      <td>Beam bending stiffness</td>\n",
       "      <td>EI</td>\n",
       "      <td>3</td>\n",
       "      <td>1</td>\n",
       "      <td>-2</td>\n",
       "    </tr>\n",
       "    <tr>\n",
       "      <th>GAs</th>\n",
       "      <td>Beam shear stiffness</td>\n",
       "      <td>GA_s</td>\n",
       "      <td>1</td>\n",
       "      <td>1</td>\n",
       "      <td>-2</td>\n",
       "    </tr>\n",
       "    <tr>\n",
       "      <th>ρ</th>\n",
       "      <td>Density</td>\n",
       "      <td>\\rho</td>\n",
       "      <td>-3</td>\n",
       "      <td>1</td>\n",
       "      <td>0</td>\n",
       "    </tr>\n",
       "    <tr>\n",
       "      <th>μ</th>\n",
       "      <td>Dynamic viscosity</td>\n",
       "      <td>\\mu</td>\n",
       "      <td>-1</td>\n",
       "      <td>1</td>\n",
       "      <td>-1</td>\n",
       "    </tr>\n",
       "    <tr>\n",
       "      <th>F</th>\n",
       "      <td>Force</td>\n",
       "      <td>F</td>\n",
       "      <td>1</td>\n",
       "      <td>1</td>\n",
       "      <td>-2</td>\n",
       "    </tr>\n",
       "    <tr>\n",
       "      <th>q</th>\n",
       "      <td>Force per unit length</td>\n",
       "      <td>q</td>\n",
       "      <td>0</td>\n",
       "      <td>1</td>\n",
       "      <td>-2</td>\n",
       "    </tr>\n",
       "    <tr>\n",
       "      <th>f</th>\n",
       "      <td>frequency</td>\n",
       "      <td>f</td>\n",
       "      <td>0</td>\n",
       "      <td>0</td>\n",
       "      <td>-1</td>\n",
       "    </tr>\n",
       "    <tr>\n",
       "      <th>υ</th>\n",
       "      <td>Kinematic viscosity</td>\n",
       "      <td>\\nu</td>\n",
       "      <td>2</td>\n",
       "      <td>0</td>\n",
       "      <td>-1</td>\n",
       "    </tr>\n",
       "    <tr>\n",
       "      <th>L</th>\n",
       "      <td>Length</td>\n",
       "      <td>L</td>\n",
       "      <td>1</td>\n",
       "      <td>0</td>\n",
       "      <td>0</td>\n",
       "    </tr>\n",
       "    <tr>\n",
       "      <th>m</th>\n",
       "      <td>Mass</td>\n",
       "      <td>m</td>\n",
       "      <td>0</td>\n",
       "      <td>1</td>\n",
       "      <td>0</td>\n",
       "    </tr>\n",
       "    <tr>\n",
       "      <th>im</th>\n",
       "      <td>Mass inertia per unit length</td>\n",
       "      <td>i_m</td>\n",
       "      <td>1</td>\n",
       "      <td>1</td>\n",
       "      <td>0</td>\n",
       "    </tr>\n",
       "    <tr>\n",
       "      <th>μA</th>\n",
       "      <td>Mass per unit area</td>\n",
       "      <td>\\mu_A</td>\n",
       "      <td>-2</td>\n",
       "      <td>1</td>\n",
       "      <td>0</td>\n",
       "    </tr>\n",
       "    <tr>\n",
       "      <th>μL</th>\n",
       "      <td>Mass per unit length</td>\n",
       "      <td>\\mu_L</td>\n",
       "      <td>-1</td>\n",
       "      <td>1</td>\n",
       "      <td>0</td>\n",
       "    </tr>\n",
       "    <tr>\n",
       "      <th>M</th>\n",
       "      <td>Moment</td>\n",
       "      <td>M</td>\n",
       "      <td>2</td>\n",
       "      <td>1</td>\n",
       "      <td>-2</td>\n",
       "    </tr>\n",
       "    <tr>\n",
       "      <th>I</th>\n",
       "      <td>Moment of inertia</td>\n",
       "      <td>I</td>\n",
       "      <td>4</td>\n",
       "      <td>0</td>\n",
       "      <td>0</td>\n",
       "    </tr>\n",
       "    <tr>\n",
       "      <th>W</th>\n",
       "      <td>Resistent modulus</td>\n",
       "      <td>W</td>\n",
       "      <td>3</td>\n",
       "      <td>0</td>\n",
       "      <td>0</td>\n",
       "    </tr>\n",
       "    <tr>\n",
       "      <th>Im</th>\n",
       "      <td>Rotational mass inertia</td>\n",
       "      <td>I_m</td>\n",
       "      <td>2</td>\n",
       "      <td>1</td>\n",
       "      <td>0</td>\n",
       "    </tr>\n",
       "    <tr>\n",
       "      <th>k</th>\n",
       "      <td>Spring stiffness</td>\n",
       "      <td>k</td>\n",
       "      <td>0</td>\n",
       "      <td>1</td>\n",
       "      <td>-2</td>\n",
       "    </tr>\n",
       "    <tr>\n",
       "      <th>σ</th>\n",
       "      <td>Stress</td>\n",
       "      <td>\\sigma</td>\n",
       "      <td>-1</td>\n",
       "      <td>1</td>\n",
       "      <td>-2</td>\n",
       "    </tr>\n",
       "    <tr>\n",
       "      <th>t</th>\n",
       "      <td>Time</td>\n",
       "      <td>t</td>\n",
       "      <td>0</td>\n",
       "      <td>0</td>\n",
       "      <td>1</td>\n",
       "    </tr>\n",
       "    <tr>\n",
       "      <th>v</th>\n",
       "      <td>Velocity</td>\n",
       "      <td>v</td>\n",
       "      <td>1</td>\n",
       "      <td>0</td>\n",
       "      <td>-1</td>\n",
       "    </tr>\n",
       "    <tr>\n",
       "      <th>c</th>\n",
       "      <td>Viscous damping</td>\n",
       "      <td>c</td>\n",
       "      <td>0</td>\n",
       "      <td>1</td>\n",
       "      <td>-1</td>\n",
       "    </tr>\n",
       "    <tr>\n",
       "      <th>V</th>\n",
       "      <td>Volume</td>\n",
       "      <td>V</td>\n",
       "      <td>3</td>\n",
       "      <td>0</td>\n",
       "      <td>0</td>\n",
       "    </tr>\n",
       "  </tbody>\n",
       "</table>\n",
       "</div>"
      ],
      "text/plain": [
       "                       descriptor   latex  L  M  T\n",
       "a                    Acceleration       a  1  0 -2\n",
       "α            Angular acceleration  \\alpha  0  0 -2\n",
       "ω               Angular frequency  \\omega  0  0 -1\n",
       "A                            Area       A  2  0  0\n",
       "EI         Beam bending stiffness      EI  3  1 -2\n",
       "GAs          Beam shear stiffness    GA_s  1  1 -2\n",
       "ρ                         Density    \\rho -3  1  0\n",
       "μ               Dynamic viscosity     \\mu -1  1 -1\n",
       "F                           Force       F  1  1 -2\n",
       "q           Force per unit length       q  0  1 -2\n",
       "f                       frequency       f  0  0 -1\n",
       "υ             Kinematic viscosity     \\nu  2  0 -1\n",
       "L                          Length       L  1  0  0\n",
       "m                            Mass       m  0  1  0\n",
       "im   Mass inertia per unit length     i_m  1  1  0\n",
       "μA             Mass per unit area   \\mu_A -2  1  0\n",
       "μL           Mass per unit length   \\mu_L -1  1  0\n",
       "M                          Moment       M  2  1 -2\n",
       "I               Moment of inertia       I  4  0  0\n",
       "W               Resistent modulus       W  3  0  0\n",
       "Im        Rotational mass inertia     I_m  2  1  0\n",
       "k                Spring stiffness       k  0  1 -2\n",
       "σ                          Stress  \\sigma -1  1 -2\n",
       "t                            Time       t  0  0  1\n",
       "v                        Velocity       v  1  0 -1\n",
       "c                 Viscous damping       c  0  1 -1\n",
       "V                          Volume       V  3  0  0"
      ]
     },
     "execution_count": 2,
     "metadata": {},
     "output_type": "execute_result"
    }
   ],
   "source": [
    "DimData"
   ]
  },
  {
   "cell_type": "code",
   "execution_count": 3,
   "metadata": {},
   "outputs": [
    {
     "name": "stdout",
     "output_type": "stream",
     "text": [
      "   L  M  T\n",
      "L  1  0  0\n",
      "ρ -3  1  0\n",
      "f  0  0 -1\n"
     ]
    }
   ],
   "source": [
    "#======================================================#\n",
    "# 2. MAKING DIMENSIONAL MATRIX                         #\n",
    "#======================================================#\n",
    "ABC    = ['L', 'ρ', 'f']           \n",
    "LMT    = ['L', 'M', 'T']           \n",
    "base   =  DimData.loc[ABC, LMT]    \n",
    "i_base =  np.linalg.inv(base)      \n",
    "\n",
    "print(base)"
   ]
  },
  {
   "cell_type": "code",
   "execution_count": 80,
   "metadata": {},
   "outputs": [],
   "source": [
    "#======================================================#\n",
    "# 3. DEFINING NEW SCALES                               #\n",
    "#======================================================#\n",
    "\n",
    "\n",
    "λ_L    =  1/406.4         # length scale for the reduced model\n",
    "λ_ρ    =  1/1          # acceleration remains unchanged (same gravity)\n",
    "λ_f   =  5.67/0.2       # imposed flexural stiffness scale\n"
   ]
  },
  {
   "cell_type": "code",
   "execution_count": 81,
   "metadata": {},
   "outputs": [
    {
     "name": "stdout",
     "output_type": "stream",
     "text": [
      "    L  M  T\n",
      "a   1  0 -2\n",
      "v   1  0 -1\n",
      "EI  3  1 -2\n",
      "m   0  1  0\n",
      "L   1  0  0\n"
     ]
    }
   ],
   "source": [
    "#======================================================#\n",
    "# 4. MAKING NEW DIMENSIONAL BASE MATRIX                #\n",
    "#======================================================#\n",
    "\n",
    "par    = ['a','v', 'EI','m','L']         # selected scales to be calculated\n",
    "npar   =  len(par)                           # number of quantities\n",
    "DimMat =  DimData.loc[par, LMT]              # the dimensional matrix\n",
    "\n",
    "print(DimMat)"
   ]
  },
  {
   "cell_type": "code",
   "execution_count": 82,
   "metadata": {},
   "outputs": [
    {
     "name": "stdout",
     "output_type": "stream",
     "text": [
      "      L    ρ    f\n",
      "a   1.0  0.0  2.0\n",
      "v   1.0  0.0  1.0\n",
      "EI  6.0  1.0  2.0\n",
      "m   3.0  1.0  0.0\n",
      "L   1.0  0.0  0.0\n"
     ]
    }
   ],
   "source": [
    "scales =  np.tile([λ_L, λ_ρ, λ_f],(npar,1))  # prepare for calculations\n",
    "\n",
    "NewMat =  pd.DataFrame(data    = np.matmul(DimMat.values, i_base),\n",
    "                       index   = DimMat.index,\n",
    "                       columns = ABC)\n",
    "print(NewMat)"
   ]
  },
  {
   "cell_type": "code",
   "execution_count": 83,
   "metadata": {},
   "outputs": [
    {
     "name": "stdout",
     "output_type": "stream",
     "text": [
      "Aceleração:       λ_a   =  1 : 1.977663631889763 \n",
      "Velocidade:       λ_v   =  1 : 0.069758858267717 \n",
      "Rigidez:          λ_EI  =  1 : 0.000000000000178 \n",
      "Massa:            λ_m   =  1 : 0.000000014898375 \n",
      "Comprimento:      λ_L   =  1 : 0.002460629921260\n"
     ]
    }
   ],
   "source": [
    "#======================================================#\n",
    "# 5. PRINTING NECESSARY SCALES                         #\n",
    "#======================================================#\n",
    "[λ_a,λ_v, λ_EI, λ_m,λ_L]  = np.prod(scales**NewMat, axis=1);\n",
    "\n",
    "print('Aceleração:       λ_a   =  1 : {0:5.15f}'.format(λ_a),  '\\n'\n",
    "      'Velocidade:       λ_v   =  1 : {0:5.15f}'.format(λ_v),  '\\n'     \n",
    "      'Rigidez:          λ_EI  =  1 : {0:2.15f}'.format(λ_EI), '\\n'\n",
    "      'Massa:            λ_m   =  1 : {0:2.15f}'.format(λ_m), '\\n'\n",
    "      'Comprimento:      λ_L   =  1 : {0:2.15f}'.format(λ_L)) "
   ]
  },
  {
   "cell_type": "code",
   "execution_count": 84,
   "metadata": {
    "scrolled": true
   },
   "outputs": [
    {
     "name": "stdout",
     "output_type": "stream",
     "text": [
      "Aceleração:             1 / λ_a  =  0.50565 \n",
      "Velocidade:             1 / λ_v  =  14.34 \n",
      "Rigidez à flexão:       1 / λ_EI =  5605522100837 \n",
      "Massa:                  1 / λ_m  =  67121414.1 \n",
      "Comprimento:            1 / λ_L  =  406.4\n"
     ]
    }
   ],
   "source": [
    "print('Aceleração:             1 / λ_a  =  {0:4.5f}'.format(1/λ_a),  '\\n'\n",
    "      'Velocidade:             1 / λ_v  =  {0:4.2f}'.format(1/λ_v), '\\n'\n",
    "      'Rigidez à flexão:       1 / λ_EI =  {0:4.0f}'.format(1/λ_EI), '\\n'\n",
    "      'Massa:                  1 / λ_m  =  {0:4.1f}'.format(1/λ_m), '\\n'\n",
    "      'Comprimento:            1 / λ_L  =  {0:4.1f}'.format(1/λ_L))"
   ]
  },
  {
   "cell_type": "code",
   "execution_count": 92,
   "metadata": {},
   "outputs": [
    {
     "name": "stdout",
     "output_type": "stream",
     "text": [
      "Massa do Protótipo [CAARC] :          40776259.0925 kg\n"
     ]
    }
   ],
   "source": [
    "ρ = 160       # [ kg/m³ ]\n",
    "\n",
    "hp = 182.88   # [ m ] \n",
    "l1p = 30.48   # [ m ] \n",
    "l2p = 45.72   # [ m ] \n",
    "\n",
    "volume = hp*l1p*l2p\n",
    "\n",
    "m = ρ*volume\n",
    "\n",
    "print('Massa do Protótipo [CAARC] :          {0:5.4f} kg'.format(m))"
   ]
  },
  {
   "cell_type": "code",
   "execution_count": 123,
   "metadata": {},
   "outputs": [
    {
     "name": "stdout",
     "output_type": "stream",
     "text": [
      "Altura do CAARC:          45.00 cm\n",
      "Largura do CAARC:          7.50 cm\n",
      "Comprimento do CAARC:     11.25 cm\n",
      "Massa Total do Modelo:     607.50 g\n"
     ]
    }
   ],
   "source": [
    "print('Altura do CAARC:          {0:5.2f} cm'.format(182.88*λ_L*100))\n",
    "print('Largura do CAARC:         {0:5.2f} cm'.format(30.48*λ_L*100))\n",
    "print('Comprimento do CAARC:     {0:5.2f} cm'.format(45.72*λ_L*100))\n",
    "\n",
    "\n",
    "print('Massa Total do Modelo:     {0:5.2f} g'.format(m*λ_m*1000))"
   ]
  },
  {
   "cell_type": "code",
   "execution_count": 124,
   "metadata": {},
   "outputs": [
    {
     "name": "stdout",
     "output_type": "stream",
     "text": [
      "Massa média da placa de acrílico (laje):                     31.00 g\n",
      "Desvio Padrão da massa da placa de acrílico (laje):           0.00 g\n",
      "\n",
      "Massa média do fio de arame (coluna):                     13.00 g\n",
      "Desvio Padrão da massa do fio de arame (coluna):           0.00 g\n",
      "\n",
      "Massa média do chumbinho:                     10.00 g\n",
      "Desvio Padrão da massa do chumbinho:           0.00 g\n"
     ]
    }
   ],
   "source": [
    "massa_total_escalada = m*λ_m*1000\n",
    "m_placa = np.array((31., 31. ,31., 31., 31.))\n",
    "m_arame = np.array((13.,13.,13.,13.))\n",
    "m_chumbinho = np.array((10.,10.,10.,10.,10.,10.,10.,10.,10.,10.,10.,10.,10.,10.,10.,10.,10.,10.,10.,10.,\n",
    "                        10.,10.,10.,10.,10.,10.,10.,10.,10.,10.,10.,10.,10.,10.,10.,10.,10.,10.,10.,10.))\n",
    "mi_placa = np.mean(m_placa)\n",
    "s_placa = np.std(m_placa)\n",
    "\n",
    "mi_arame = np.mean(m_arame)\n",
    "s_arame = np.std(m_arame)\n",
    "\n",
    "mi_chumbinho = np.mean(m_chumbinho)\n",
    "s_chumbinho = np.std(m_chumbinho)\n",
    "\n",
    "print('Massa média da placa de acrílico (laje):                     {0:5.2f} g'.format(mi_placa))\n",
    "print('Desvio Padrão da massa da placa de acrílico (laje):          {0:5.2f} g'.format(s_placa))\n",
    "print()\n",
    "print('Massa média do fio de arame (coluna):                     {0:5.2f} g'.format(mi_arame))\n",
    "print('Desvio Padrão da massa do fio de arame (coluna):          {0:5.2f} g'.format(s_arame))\n",
    "print()\n",
    "print('Massa média do chumbinho:                     {0:5.2f} g'.format(mi_chumbinho))\n",
    "print('Desvio Padrão da massa do chumbinho:          {0:5.2f} g'.format(s_chumbinho))"
   ]
  },
  {
   "cell_type": "code",
   "execution_count": 132,
   "metadata": {},
   "outputs": [
    {
     "name": "stdout",
     "output_type": "stream",
     "text": [
      "Massa Total calculada do Modelo Reduzido :           607.00 g\n",
      "Erro absoluto da massa :                              0.50 g\n",
      "Erro relativo da massa :                             0.08230 %\n"
     ]
    }
   ],
   "source": [
    "massa_total_calculada = 4*mi_arame + 5*mi_placa + 40*mi_chumbinho\n",
    "massa_restante = massa_total_escalada - massa_total_calculada\n",
    "\n",
    "print('Massa Total calculada do Modelo Reduzido :           {0:5.2f} g'.format(massa_total_calculada))\n",
    "print('Erro absoluto da massa :                             {0:5.2f} g'.format(massa_restante))\n",
    "print('Erro relativo da massa :                             {0:5.5f} %'.format(100*massa_restante/massa_total_escalada))"
   ]
  },
  {
   "cell_type": "code",
   "execution_count": 136,
   "metadata": {},
   "outputs": [
    {
     "name": "stdout",
     "output_type": "stream",
     "text": [
      "Velocidade básica do Vento (Vo) no Túnel de Vento:          3.139 m/s\n"
     ]
    }
   ],
   "source": [
    "\n",
    "print('Velocidade básica do Vento (Vo) no Túnel de Vento:          {0:5.3f} m/s'.format(45*λ_v))"
   ]
  },
  {
   "cell_type": "code",
   "execution_count": null,
   "metadata": {},
   "outputs": [],
   "source": []
  }
 ],
 "metadata": {
  "kernelspec": {
   "display_name": "Python 3",
   "language": "python",
   "name": "python3"
  },
  "language_info": {
   "codemirror_mode": {
    "name": "ipython",
    "version": 3
   },
   "file_extension": ".py",
   "mimetype": "text/x-python",
   "name": "python",
   "nbconvert_exporter": "python",
   "pygments_lexer": "ipython3",
   "version": "3.8.5"
  }
 },
 "nbformat": 4,
 "nbformat_minor": 4
}
